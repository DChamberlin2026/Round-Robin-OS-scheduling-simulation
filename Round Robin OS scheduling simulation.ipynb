{
  "nbformat": 4,
  "nbformat_minor": 0,
  "metadata": {
    "colab": {
      "provenance": []
    },
    "kernelspec": {
      "name": "python3",
      "display_name": "Python 3"
    },
    "language_info": {
      "name": "python"
    }
  },
  "cells": [
    {
      "cell_type": "code",
      "source": [
        "import random\n",
        "\n",
        "inter_arrival_times = []\n",
        "arrival_times = [0]\n",
        "\n",
        "for _ in range(99):\n",
        "        rand = random.random()\n",
        "        inter_arrival_time = 5 + (10 - 5) * rand\n",
        "        inter_arrival_times.append(inter_arrival_time)\n",
        "\n",
        "for i in range(99):\n",
        "        arrival_time = arrival_times[-1] + inter_arrival_times[i]\n",
        "        arrival_times.append(round(arrival_time))"
      ],
      "metadata": {
        "id": "YkajLp9ErgE5"
      },
      "execution_count": null,
      "outputs": []
    },
    {
      "cell_type": "code",
      "source": [
        "service_times = []\n",
        "\n",
        "for _ in range(100):\n",
        "    rand = random.random()\n",
        "    service_time = 4 + (8 - 4) * rand\n",
        "    service_times.append(round(service_time))"
      ],
      "metadata": {
        "id": "oSgIimi7rgsy"
      },
      "execution_count": null,
      "outputs": []
    },
    {
      "cell_type": "code",
      "source": [
        "#create process class\n",
        "class process:\n",
        "  def __init__(self, Process_Id, Service_Time, Arrival_Time):\n",
        "    self.Process_Id = Process_Id\n",
        "    self.Service_Time = Service_Time\n",
        "    self.Arrival_Time = Arrival_Time\n",
        "    self.Start_Time = 0\n",
        "    self.Initial_wait_Time = 0\n",
        "    self.End_Time = 0\n",
        "    self.Total_wait_Time = 0\n",
        "    self.Turnaround_Time = 0\n",
        "    self.finished = False\n",
        "    self.arrived = False\n",
        "    self.started = False"
      ],
      "metadata": {
        "id": "M-5mmt4arg90"
      },
      "execution_count": null,
      "outputs": []
    },
    {
      "cell_type": "code",
      "source": [
        "all = []\n",
        "for i in range(100):\n",
        "  all.append(process(i, service_times[i], arrival_times[i]))\n",
        "arrived = []\n",
        "finished = []\n",
        "CS = 0\n",
        "Q = 2\n",
        "time = 0\n",
        "done = False"
      ],
      "metadata": {
        "id": "2fmiip1cNqn-"
      },
      "execution_count": null,
      "outputs": []
    },
    {
      "cell_type": "code",
      "source": [
        "#if time is >= arrival time of a process, append it to arrived\n",
        "#service each process in arrived and subtract Q from service time\n",
        "#if service time <= 0, remove from arrived and add to finished\n",
        "#add CS to time after each process serviced\n",
        "#add Q to time after each process serviced\n",
        "#if len(all) == len(finished), end\n",
        "while done == False:\n",
        "   for i in all:\n",
        "     if i.Arrival_Time <= time and i.arrived == False:\n",
        "       arrived.append(i)\n",
        "       i.arrived = True\n",
        "   for i in arrived:\n",
        "     i.Service_Time = i.Service_Time - Q\n",
        "     if i.started == False:\n",
        "       i.started = True\n",
        "       i.Start_Time = time\n",
        "     if i.Service_Time <= 0 and i.finished == False:\n",
        "       finished.append(i)\n",
        "       i.End_Time = time\n",
        "       i.finished = True\n",
        "       arrived.remove(i)\n",
        "     time = time + CS\n",
        "   time = time + Q\n",
        "   if len(finished) == len(all):\n",
        "     done = True"
      ],
      "metadata": {
        "id": "Dr2c5AUZO1sv"
      },
      "execution_count": null,
      "outputs": []
    },
    {
      "cell_type": "code",
      "source": [
        "#Sort the finished list in order of Process_Id\n",
        "finished.sort(key=lambda x: x.End_Time)\n",
        "\n",
        "#calculate initial wait time, total wait time, and turnaround time for each process in finished and print stats of each process\n",
        "for i in finished:\n",
        "  i.Initial_wait_Time = i.Start_Time - i.Arrival_Time\n",
        "  i.Total_wait_Time = i.End_Time - i.Arrival_Time\n",
        "  i.Turnaround_Time = i.End_Time - i.Start_Time\n",
        "\n",
        "#print statistics for the first ten processes to finish\n",
        "for i in finished[:10]:\n",
        "  print(\"Process id: \" + str(i.Process_Id) + \" Start time:\" + str(i.Start_Time) + \" End time:\" + str(i.End_Time) + \" Initial wait time:\" + str(i.Initial_wait_Time) + \" Total wait time:\" + str(i.Total_wait_Time) + \" Turnanround:\" + str(i.Turnaround_Time))\n",
        "\n",
        "#print statistics for the last ten processes to finish\n",
        "for i in finished[-10:]:\n",
        "  print(\"Process id: \" + str(i.Process_Id) + \" Start time:\" + str(i.Start_Time) + \" End time:\" + str(i.End_Time) + \" Initial wait time:\" + str(i.Initial_wait_Time) + \" Total wait time:\" + str(i.Total_wait_Time) + \" Turnanround:\" + str(i.Turnaround_Time))"
      ],
      "metadata": {
        "colab": {
          "base_uri": "https://localhost:8080/"
        },
        "id": "uOrY2xB6llQ5",
        "outputId": "960d7956-c31c-429d-e6f2-cd31978c92fd"
      },
      "execution_count": null,
      "outputs": [
        {
          "output_type": "stream",
          "name": "stdout",
          "text": [
            "Process id: 0 Start time:0 End time:6 Initial wait time:0 Total wait time:6 Turnanround:6\n",
            "Process id: 1 Start time:8 End time:12 Initial wait time:1 Total wait time:5 Turnanround:4\n",
            "Process id: 2 Start time:14 End time:20 Initial wait time:1 Total wait time:7 Turnanround:6\n",
            "Process id: 3 Start time:22 End time:26 Initial wait time:2 Total wait time:6 Turnanround:4\n",
            "Process id: 4 Start time:28 End time:34 Initial wait time:3 Total wait time:9 Turnanround:6\n",
            "Process id: 5 Start time:32 End time:40 Initial wait time:0 Total wait time:8 Turnanround:8\n",
            "Process id: 6 Start time:42 End time:48 Initial wait time:2 Total wait time:8 Turnanround:6\n",
            "Process id: 7 Start time:46 End time:54 Initial wait time:1 Total wait time:9 Turnanround:8\n",
            "Process id: 8 Start time:56 End time:62 Initial wait time:1 Total wait time:7 Turnanround:6\n",
            "Process id: 9 Start time:64 End time:70 Initial wait time:0 Total wait time:6 Turnanround:6\n",
            "Process id: 90 Start time:654 End time:656 Initial wait time:2 Total wait time:4 Turnanround:2\n",
            "Process id: 91 Start time:658 End time:662 Initial wait time:0 Total wait time:4 Turnanround:4\n",
            "Process id: 92 Start time:668 End time:672 Initial wait time:0 Total wait time:4 Turnanround:4\n",
            "Process id: 93 Start time:676 End time:680 Initial wait time:0 Total wait time:4 Turnanround:4\n",
            "Process id: 94 Start time:684 End time:688 Initial wait time:1 Total wait time:5 Turnanround:4\n",
            "Process id: 95 Start time:690 End time:696 Initial wait time:1 Total wait time:7 Turnanround:6\n",
            "Process id: 96 Start time:698 End time:704 Initial wait time:3 Total wait time:9 Turnanround:6\n",
            "Process id: 97 Start time:706 End time:712 Initial wait time:2 Total wait time:8 Turnanround:6\n",
            "Process id: 98 Start time:710 End time:714 Initial wait time:1 Total wait time:5 Turnanround:4\n",
            "Process id: 99 Start time:718 End time:722 Initial wait time:1 Total wait time:5 Turnanround:4\n"
          ]
        }
      ]
    },
    {
      "cell_type": "code",
      "source": [
        "#print averages\n",
        "avgInterarrivalTime = sum(inter_arrival_times)/len(inter_arrival_times)\n",
        "avgServiceTime = sum(service_times)/len(service_times)\n",
        "avgTurnaroundTime = sum(i.Turnaround_Time for i in finished)/len(finished)\n",
        "avgTotal_waitTime = sum(i.Total_wait_Time for i in finished)/len(finished)\n",
        "print(\"Average Interarrival Time:\", avgInterarrivalTime)\n",
        "print(\"Average Service Time:\", avgServiceTime)\n",
        "print(\"Average Turnaround Time:\", avgTurnaroundTime)\n",
        "print(\"Average Total Wait Time:\", avgTotal_waitTime)\n"
      ],
      "metadata": {
        "colab": {
          "base_uri": "https://localhost:8080/"
        },
        "id": "A6diJG8R2veu",
        "outputId": "a11f3c45-d5fd-4fba-c6d7-821e54b0e619"
      },
      "execution_count": null,
      "outputs": [
        {
          "output_type": "stream",
          "name": "stdout",
          "text": [
            "Average Interarrival Time: 7.2613494269383\n",
            "Average Service Time: 6.15\n",
            "Average Turnaround Time: 4.8\n",
            "Average Total Wait Time: 5.91\n"
          ]
        }
      ]
    }
  ]
}